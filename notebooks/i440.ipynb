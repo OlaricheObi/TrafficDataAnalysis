{
 "cells": [
  {
   "cell_type": "markdown",
   "id": "81833391",
   "metadata": {},
   "source": [
    "### Import neccesary packages"
   ]
  },
  {
   "cell_type": "code",
   "execution_count": 1,
   "id": "09f93f5a",
   "metadata": {},
   "outputs": [],
   "source": [
    "from shapely.geometry import Point, LineString\n",
    "import pandas as pd\n",
    "import geopandas as gpd\n",
    "import matplotlib.pyplot as plt\n",
    "import folium\n",
    "from folium.plugins import MarkerCluster\n",
    "from folium.plugins import FastMarkerCluster"
   ]
  },
  {
   "cell_type": "markdown",
   "id": "724c0aa9",
   "metadata": {},
   "source": [
    "### Create the map for the i840 LineStrings"
   ]
  },
  {
   "cell_type": "code",
   "execution_count": 2,
   "id": "5860acba",
   "metadata": {},
   "outputs": [],
   "source": [
    "x = -86.78069                                                          # create the map on which all the points will be plotted\n",
    "y = 36.14848\n",
    "area_center = [y, x]\n",
    "i440_map = folium.Map(location =  area_center, zoom_start = 10.0)"
   ]
  },
  {
   "cell_type": "markdown",
   "id": "2a8865f2",
   "metadata": {},
   "source": [
    "### Goal: plot counties which contain i440, main intrastate in Middle Tn."
   ]
  },
  {
   "cell_type": "code",
   "execution_count": null,
   "id": "0786dcb5",
   "metadata": {},
   "outputs": [],
   "source": []
  }
 ],
 "metadata": {
  "kernelspec": {
   "display_name": "Python [conda env:geospatial]",
   "language": "python",
   "name": "conda-env-geospatial-py"
  },
  "language_info": {
   "codemirror_mode": {
    "name": "ipython",
    "version": 3
   },
   "file_extension": ".py",
   "mimetype": "text/x-python",
   "name": "python",
   "nbconvert_exporter": "python",
   "pygments_lexer": "ipython3",
   "version": "3.8.5"
  }
 },
 "nbformat": 4,
 "nbformat_minor": 5
}
